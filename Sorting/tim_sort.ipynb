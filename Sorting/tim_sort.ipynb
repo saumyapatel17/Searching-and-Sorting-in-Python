{
 "cells": [
  {
   "cell_type": "markdown",
   "metadata": {},
   "source": [
    "# Timsort\n",
    "**Timsort** is a hybrid sorting algorithm derived from Merge Sort and Insertion Sort. It is designed to perform well on many real-world data sets and is the default sorting algorithm in Python (`sort()` method for lists). Timsort exploits runs (already sorted subsequences) in the data and merges them efficiently."
   ]
  },
  {
   "cell_type": "markdown",
   "metadata": {},
   "source": [
    "### Algorithm (How It Works):\n",
    "1. **Divide the Array into Runs**:\n",
    "   - Split the array into small runs (default size 32 or smaller).\n",
    "   - Sort each run using Insertion Sort because it is efficient for small arrays.\n",
    "\n",
    "2. **Merge Runs**:\n",
    "   - Use a merge process similar to Merge Sort to combine the sorted runs into larger runs.\n",
    "   - Timsort uses specific rules to balance merging runs, avoiding unnecessary overhead.\n",
    "\n",
    "3. **Optimize**:\n",
    "   - Exploits natural runs (already sorted sequences in the data).\n",
    "   - Ensures stable sorting and avoids unnecessary merges."
   ]
  },
  {
   "cell_type": "code",
   "execution_count": 1,
   "metadata": {},
   "outputs": [
    {
     "name": "stdout",
     "output_type": "stream",
     "text": [
      "Sorted array: [3, 5, 7, 10, 11, 13, 17, 19, 21, 23]\n"
     ]
    }
   ],
   "source": [
    "def insertion_sort(arr, left, right):\n",
    "    for i in range(left + 1, right + 1):\n",
    "        key = arr[i]\n",
    "        j = i - 1\n",
    "        while j >= left and arr[j] > key:\n",
    "            arr[j + 1] = arr[j]\n",
    "            j -= 1\n",
    "        arr[j + 1] = key\n",
    "\n",
    "def merge(arr, left, mid, right):\n",
    "    left_part = arr[left:mid + 1]\n",
    "    right_part = arr[mid + 1:right + 1]\n",
    "    \n",
    "    i = j = 0\n",
    "    k = left\n",
    "\n",
    "    while i < len(left_part) and j < len(right_part):\n",
    "        if left_part[i] <= right_part[j]:\n",
    "            arr[k] = left_part[i]\n",
    "            i += 1\n",
    "        else:\n",
    "            arr[k] = right_part[j]\n",
    "            j += 1\n",
    "        k += 1\n",
    "\n",
    "    while i < len(left_part):\n",
    "        arr[k] = left_part[i]\n",
    "        i += 1\n",
    "        k += 1\n",
    "\n",
    "    while j < len(right_part):\n",
    "        arr[k] = right_part[j]\n",
    "        j += 1\n",
    "        k += 1\n",
    "\n",
    "def timsort(arr):\n",
    "    n = len(arr)\n",
    "    min_run = 32\n",
    "\n",
    "    # Step 1: Sort small runs using Insertion Sort\n",
    "    for start in range(0, n, min_run):\n",
    "        end = min(start + min_run - 1, n - 1)\n",
    "        insertion_sort(arr, start, end)\n",
    "\n",
    "    # Step 2: Merge runs\n",
    "    size = min_run\n",
    "    while size < n:\n",
    "        for left in range(0, n, size * 2):\n",
    "            mid = min(left + size - 1, n - 1)\n",
    "            right = min(left + 2 * size - 1, n - 1)\n",
    "            if mid < right:\n",
    "                merge(arr, left, mid, right)\n",
    "        size *= 2\n",
    "\n",
    "    return arr\n",
    "\n",
    "# Example Usage\n",
    "array = [5, 21, 7, 23, 19, 10, 3, 17, 13, 11]\n",
    "sorted_array = timsort(array)\n",
    "print(\"Sorted array:\", sorted_array)"
   ]
  },
  {
   "cell_type": "markdown",
   "metadata": {},
   "source": [
    "### Time Complexity:\n",
    "1. **Best Case**: \\(O(n)\\)  \n",
    "   - Occurs when the input is already sorted or partially sorted (exploits natural runs).\n",
    "2. **Average Case**: \\(O(n \\log n)\\)  \n",
    "   - Timsort is optimized for a variety of input types and still ensures efficient merging.\n",
    "3. **Worst Case**: \\(O(n \\log n)\\)  \n",
    "   - Merging runs remains consistent, making it efficient even for poorly ordered data.\n",
    "\n",
    "### Space Complexity:\n",
    "- **Space Complexity**: \\(O(n)\\)  \n",
    "   - Requires additional memory for temporary arrays during merging."
   ]
  },
  {
   "cell_type": "markdown",
   "metadata": {},
   "source": [
    "### Key Characteristics:\n",
    "- **Stable**: Maintains the relative order of equal elements.\n",
    "- **Adaptive**: Performs exceptionally well on nearly sorted data.\n",
    "- **Practical**: Used as the default sorting algorithm in Python and Java (since Java 7)."
   ]
  }
 ],
 "metadata": {
  "kernelspec": {
   "display_name": "base",
   "language": "python",
   "name": "python3"
  },
  "language_info": {
   "codemirror_mode": {
    "name": "ipython",
    "version": 3
   },
   "file_extension": ".py",
   "mimetype": "text/x-python",
   "name": "python",
   "nbconvert_exporter": "python",
   "pygments_lexer": "ipython3",
   "version": "3.8.8"
  }
 },
 "nbformat": 4,
 "nbformat_minor": 2
}
