{
 "cells": [
  {
   "cell_type": "markdown",
   "metadata": {},
   "source": [
    "# Selection Sort\n",
    "**Selection Sort** is a comparison-based sorting algorithm that repeatedly selects the smallest (or largest) element from the unsorted portion of the list and swaps it with the first element of the unsorted portion. This process continues until the list is fully sorted.\n",
    "\n",
    "![image.png](../img/selection_sort.webp)"
   ]
  },
  {
   "cell_type": "markdown",
   "metadata": {},
   "source": [
    "### Algorithm (How It Works):\n",
    "1. Divide the list into two parts: a sorted portion and an unsorted portion.\n",
    "2. Find the minimum element in the unsorted portion.\n",
    "3. Swap the minimum element with the first element of the unsorted portion.\n",
    "4. Move the boundary between the sorted and unsorted portions one step to the right.\n",
    "5. Repeat until the unsorted portion is empty."
   ]
  },
  {
   "cell_type": "code",
   "execution_count": 1,
   "metadata": {},
   "outputs": [
    {
     "name": "stdout",
     "output_type": "stream",
     "text": [
      "Sorted array: [11, 12, 22, 25, 64]\n"
     ]
    }
   ],
   "source": [
    "def selection_sort(arr):\n",
    "    n = len(arr)\n",
    "    for i in range(n):\n",
    "        # Assume the first element of the unsorted portion is the smallest\n",
    "        min_index = i\n",
    "        # Find the actual minimum element in the unsorted portion\n",
    "        for j in range(i + 1, n):\n",
    "            if arr[j] < arr[min_index]:\n",
    "                min_index = j\n",
    "        # Swap the found minimum element with the first element of the unsorted portion\n",
    "        arr[i], arr[min_index] = arr[min_index], arr[i]\n",
    "    return arr\n",
    "\n",
    "# Example Usage\n",
    "array = [64, 25, 12, 22, 11]\n",
    "sorted_array = selection_sort(array)\n",
    "print(\"Sorted array:\", sorted_array)"
   ]
  },
  {
   "cell_type": "markdown",
   "metadata": {},
   "source": [
    "### Time Complexity:\n",
    "1. **Best Case**: \\(O(n^2)\\)  \n",
    "   - Regardless of the input, selection sort always performs \\(n(n-1)/2\\) comparisons.\n",
    "2. **Average Case**: \\(O(n^2)\\)  \n",
    "   - Comparisons and swaps remain consistent regardless of the initial order of elements.\n",
    "3. **Worst Case**: \\(O(n^2)\\)  \n",
    "   - The number of comparisons is the same for any input, but swaps occur \\(n\\) times in the worst case.\n",
    "\n",
    "### Space Complexity:\n",
    "- **Space Complexity**: \\(O(1)\\)  \n",
    "   - Selection Sort is an in-place algorithm, requiring no additional memory apart from a few variables."
   ]
  },
  {
   "cell_type": "markdown",
   "metadata": {},
   "source": [
    "### Key Characteristics:\n",
    "- **Not Stable**: It can disrupt the relative order of equal elements since swapping does not account for their initial positions.\n",
    "- **Not Adaptive**: Performs the same number of operations regardless of the input's sortedness."
   ]
  },
  {
   "cell_type": "markdown",
   "metadata": {},
   "source": []
  }
 ],
 "metadata": {
  "kernelspec": {
   "display_name": "base",
   "language": "python",
   "name": "python3"
  },
  "language_info": {
   "codemirror_mode": {
    "name": "ipython",
    "version": 3
   },
   "file_extension": ".py",
   "mimetype": "text/x-python",
   "name": "python",
   "nbconvert_exporter": "python",
   "pygments_lexer": "ipython3",
   "version": "3.8.8"
  }
 },
 "nbformat": 4,
 "nbformat_minor": 2
}
