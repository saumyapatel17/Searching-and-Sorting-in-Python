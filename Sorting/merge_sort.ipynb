{
 "cells": [
  {
   "cell_type": "markdown",
   "metadata": {},
   "source": [
    "# Merge Sort\n",
    "**Merge Sort** is a divide-and-conquer sorting algorithm that splits the input array into smaller subarrays, sorts these subarrays, and then merges them back together in sorted order. It is efficient for large datasets and ensures a stable sort.\n",
    "\n",
    "![image.png](../img/merge_sort.png)"
   ]
  },
  {
   "cell_type": "markdown",
   "metadata": {},
   "source": [
    "### Algorithm (How It Works):\n",
    "1. **Divide**: Split the array into two halves recursively until each subarray contains only one element (base case).\n",
    "2. **Conquer**: Sort the subarrays (single-element subarrays are inherently sorted).\n",
    "3. **Merge**: Combine the sorted subarrays to produce a single sorted array."
   ]
  },
  {
   "cell_type": "code",
   "execution_count": 1,
   "metadata": {},
   "outputs": [
    {
     "name": "stdout",
     "output_type": "stream",
     "text": [
      "Sorted array: [3, 9, 10, 27, 38, 43, 82]\n"
     ]
    }
   ],
   "source": [
    "def merge_sort(arr):\n",
    "    if len(arr) > 1:\n",
    "        # Find the middle point\n",
    "        mid = len(arr) // 2\n",
    "        # Split the array into two halves\n",
    "        left_half = arr[:mid]\n",
    "        right_half = arr[mid:]\n",
    "\n",
    "        # Recursively sort both halves\n",
    "        merge_sort(left_half)\n",
    "        merge_sort(right_half)\n",
    "\n",
    "        # Merge the sorted halves\n",
    "        i = j = k = 0\n",
    "        while i < len(left_half) and j < len(right_half):\n",
    "            if left_half[i] < right_half[j]:\n",
    "                arr[k] = left_half[i]\n",
    "                i += 1\n",
    "            else:\n",
    "                arr[k] = right_half[j]\n",
    "                j += 1\n",
    "            k += 1\n",
    "\n",
    "        # Copy any remaining elements of left_half\n",
    "        while i < len(left_half):\n",
    "            arr[k] = left_half[i]\n",
    "            i += 1\n",
    "            k += 1\n",
    "\n",
    "        # Copy any remaining elements of right_half\n",
    "        while j < len(right_half):\n",
    "            arr[k] = right_half[j]\n",
    "            j += 1\n",
    "            k += 1\n",
    "\n",
    "    return arr\n",
    "\n",
    "# Example Usage\n",
    "array = [38, 27, 43, 3, 9, 82, 10]\n",
    "sorted_array = merge_sort(array)\n",
    "print(\"Sorted array:\", sorted_array)"
   ]
  },
  {
   "cell_type": "markdown",
   "metadata": {},
   "source": [
    "### Time Complexity:\n",
    "1. **Best Case**: \\(O(n \\log n)\\)  \n",
    "   - The array is always divided into two halves, and merging takes linear time.\n",
    "2. **Average Case**: \\(O(n \\log n)\\)  \n",
    "   - The process of dividing and merging remains consistent regardless of the initial order of elements.\n",
    "3. **Worst Case**: \\(O(n \\log n)\\)  \n",
    "   - Merge Sort consistently divides the array and merges, making its performance predictable.\n",
    "\n",
    "### Space Complexity:\n",
    "- **Space Complexity**: \\(O(n)\\)  \n",
    "   - Additional memory is required to store temporary subarrays during the merge process."
   ]
  },
  {
   "cell_type": "markdown",
   "metadata": {},
   "source": [
    "### Key Characteristics:\n",
    "- **Stable**: Maintains the relative order of equal elements.\n",
    "- **Not In-Place**: Requires additional space for merging.\n",
    "- **Efficient**: Performs well for large datasets and consistent in its time complexity."
   ]
  },
  {
   "cell_type": "markdown",
   "metadata": {},
   "source": []
  }
 ],
 "metadata": {
  "kernelspec": {
   "display_name": "base",
   "language": "python",
   "name": "python3"
  },
  "language_info": {
   "codemirror_mode": {
    "name": "ipython",
    "version": 3
   },
   "file_extension": ".py",
   "mimetype": "text/x-python",
   "name": "python",
   "nbconvert_exporter": "python",
   "pygments_lexer": "ipython3",
   "version": "3.8.8"
  }
 },
 "nbformat": 4,
 "nbformat_minor": 2
}
