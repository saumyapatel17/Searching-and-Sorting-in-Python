{
 "cells": [
  {
   "cell_type": "markdown",
   "metadata": {},
   "source": [
    "# Quick Sort\n",
    "**Quick Sort** is a divide-and-conquer sorting algorithm that works by selecting a \"pivot\" element, partitioning the array into elements less than and greater than the pivot, and then recursively sorting the subarrays.\n",
    "\n",
    "![image.png](../img/Quick_Sort_0.png)"
   ]
  },
  {
   "cell_type": "markdown",
   "metadata": {},
   "source": [
    "### Algorithm (How It Works):\n",
    "1. **Choose a Pivot**: Select an element as the pivot (commonly the last element, first element, or a random element).\n",
    "2. **Partition**: Rearrange the array so that:\n",
    "   - Elements less than the pivot are on the left.\n",
    "   - Elements greater than the pivot are on the right.\n",
    "   - The pivot is placed in its correct position.\n",
    "3. **Recursion**: Recursively apply Quick Sort to the subarrays on the left and right of the pivot.\n",
    "4. Combine the sorted subarrays and pivot to form the final sorted array."
   ]
  },
  {
   "cell_type": "code",
   "execution_count": 1,
   "metadata": {},
   "outputs": [
    {
     "name": "stdout",
     "output_type": "stream",
     "text": [
      "Sorted array: [1, 5, 7, 8, 9, 10]\n"
     ]
    }
   ],
   "source": [
    "def quick_sort(arr):\n",
    "    def partition(low, high):\n",
    "        pivot = arr[high]  # Pivot element\n",
    "        i = low - 1       # Index of smaller element\n",
    "        for j in range(low, high):\n",
    "            if arr[j] <= pivot:\n",
    "                i += 1\n",
    "                arr[i], arr[j] = arr[j], arr[i]\n",
    "        arr[i + 1], arr[high] = arr[high], arr[i + 1]\n",
    "        return i + 1\n",
    "\n",
    "    def quicksort_helper(low, high):\n",
    "        if low < high:\n",
    "            pi = partition(low, high)\n",
    "            quicksort_helper(low, pi - 1)  # Sort elements before pivot\n",
    "            quicksort_helper(pi + 1, high)  # Sort elements after pivot\n",
    "\n",
    "    quicksort_helper(0, len(arr) - 1)\n",
    "    return arr\n",
    "\n",
    "# Example Usage\n",
    "array = [10, 7, 8, 9, 1, 5]\n",
    "sorted_array = quick_sort(array)\n",
    "print(\"Sorted array:\", sorted_array)"
   ]
  },
  {
   "cell_type": "markdown",
   "metadata": {},
   "source": [
    "### Time Complexity:\n",
    "1. **Best Case**: \\(O(n \\log n)\\)  \n",
    "   - Occurs when the pivot divides the array into two equal halves at each step.\n",
    "2. **Average Case**: \\(O(n \\log n)\\)  \n",
    "   - On average, the pivot divides the array reasonably well.\n",
    "3. **Worst Case**: \\(O(n^2)\\)  \n",
    "   - Occurs when the pivot is the smallest or largest element, leading to unbalanced partitions (e.g., a sorted or reverse-sorted array).\n",
    "\n",
    "### Space Complexity:\n",
    "- **Space Complexity**: \\(O(\\log n)\\)  \n",
    "   - Space is used for the recursion stack in the average case.  \n",
    "   - In the worst case (highly unbalanced partitions), space complexity is \\(O(n)\\)."
   ]
  },
  {
   "cell_type": "markdown",
   "metadata": {},
   "source": [
    "### Key Characteristics:\n",
    "- **Not Stable**: Does not maintain the relative order of equal elements.\n",
    "- **In-Place**: Requires no additional space for sorting apart from the recursion stack.\n",
    "- **Efficient**: Often faster than other \\(O(n \\log n)\\) algorithms like Merge Sort in practice due to low overhead."
   ]
  },
  {
   "cell_type": "markdown",
   "metadata": {},
   "source": []
  }
 ],
 "metadata": {
  "kernelspec": {
   "display_name": "base",
   "language": "python",
   "name": "python3"
  },
  "language_info": {
   "codemirror_mode": {
    "name": "ipython",
    "version": 3
   },
   "file_extension": ".py",
   "mimetype": "text/x-python",
   "name": "python",
   "nbconvert_exporter": "python",
   "pygments_lexer": "ipython3",
   "version": "3.8.8"
  }
 },
 "nbformat": 4,
 "nbformat_minor": 2
}
