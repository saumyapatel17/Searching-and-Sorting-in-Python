{
 "cells": [
  {
   "cell_type": "markdown",
   "metadata": {},
   "source": [
    "# Counting Sort\n",
    "**Counting Sort** is a non-comparison-based sorting algorithm that sorts integers or objects by counting the occurrences of each unique element and using that count to place elements in their correct position. It is efficient for sorting integers within a limited range.\n",
    "\n",
    "![image.png](../img/counting-sort10.png)"
   ]
  },
  {
   "cell_type": "markdown",
   "metadata": {},
   "source": [
    "### Algorithm (How It Works):\n",
    "1. **Count Frequencies**: Create a count array to store the frequency of each element in the input array.\n",
    "2. **Calculate Cumulative Counts**: Modify the count array to store the cumulative sum, which determines the position of each element in the sorted array.\n",
    "3. **Build Output Array**: Traverse the input array in reverse order to place elements into their correct positions in the output array.\n",
    "4. **Copy Back**: Copy the sorted elements back into the original array if needed."
   ]
  },
  {
   "cell_type": "code",
   "execution_count": 1,
   "metadata": {},
   "outputs": [
    {
     "name": "stdout",
     "output_type": "stream",
     "text": [
      "Sorted array: [1, 2, 2, 3, 3, 4, 8]\n"
     ]
    }
   ],
   "source": [
    "def counting_sort(arr):\n",
    "    # Find the range of the input\n",
    "    max_val = max(arr)\n",
    "    min_val = min(arr)\n",
    "    range_of_elements = max_val - min_val + 1\n",
    "\n",
    "    # Initialize count array and output array\n",
    "    count = [0] * range_of_elements\n",
    "    output = [0] * len(arr)\n",
    "\n",
    "    # Count the frequency of each element\n",
    "    for num in arr:\n",
    "        count[num - min_val] += 1\n",
    "\n",
    "    # Compute the cumulative count\n",
    "    for i in range(1, range_of_elements):\n",
    "        count[i] += count[i - 1]\n",
    "\n",
    "    # Build the output array\n",
    "    for num in reversed(arr):\n",
    "        output[count[num - min_val] - 1] = num\n",
    "        count[num - min_val] -= 1\n",
    "\n",
    "    # Copy the sorted elements back to the original array\n",
    "    for i in range(len(arr)):\n",
    "        arr[i] = output[i]\n",
    "\n",
    "    return arr\n",
    "\n",
    "# Example Usage\n",
    "array = [4, 2, 2, 8, 3, 3, 1]\n",
    "sorted_array = counting_sort(array)\n",
    "print(\"Sorted array:\", sorted_array)"
   ]
  },
  {
   "cell_type": "markdown",
   "metadata": {},
   "source": [
    "### Time Complexity:\n",
    "1. **Best Case**: \\(O(n + k)\\)  \n",
    "   - Where \\(n\\) is the number of elements in the array and \\(k\\) is the range of the input values.\n",
    "2. **Average Case**: \\(O(n + k)\\)  \n",
    "   - The performance remains consistent for all inputs.\n",
    "3. **Worst Case**: \\(O(n + k)\\)  \n",
    "   - The complexity depends on both the array size and the range of values.\n",
    "\n",
    "### Space Complexity:\n",
    "- **Space Complexity**: \\(O(n + k)\\)  \n",
    "   - Requires additional space for the count array and the output array."
   ]
  },
  {
   "cell_type": "markdown",
   "metadata": {},
   "source": [
    "### Key Characteristics:\n",
    "- **Stable**: Maintains the relative order of equal elements when implemented properly.\n",
    "- **Not Comparison-Based**: Does not compare elements but relies on their frequencies.\n",
    "- **Efficient for Small Ranges**: Performs well when the range of input values (\\(k\\)) is not significantly larger than the number of elements (\\(n\\))."
   ]
  },
  {
   "cell_type": "markdown",
   "metadata": {},
   "source": []
  }
 ],
 "metadata": {
  "kernelspec": {
   "display_name": "base",
   "language": "python",
   "name": "python3"
  },
  "language_info": {
   "codemirror_mode": {
    "name": "ipython",
    "version": 3
   },
   "file_extension": ".py",
   "mimetype": "text/x-python",
   "name": "python",
   "nbconvert_exporter": "python",
   "pygments_lexer": "ipython3",
   "version": "3.8.8"
  }
 },
 "nbformat": 4,
 "nbformat_minor": 2
}
