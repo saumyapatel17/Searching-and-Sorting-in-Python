{
 "cells": [
  {
   "cell_type": "markdown",
   "metadata": {},
   "source": [
    "# Heap Sort\n",
    "**Heap Sort** is a comparison-based sorting algorithm that uses a binary heap data structure to sort elements. It repeatedly builds a max heap (or min heap) from the unsorted portion of the array and extracts the root (maximum or minimum) to sort the array.\n",
    "\n",
    "![image.png](../img/heap_sort.png)"
   ]
  },
  {
   "cell_type": "markdown",
   "metadata": {},
   "source": [
    "### Algorithm (How It Works):\n",
    "1. **Build a Max Heap**: Transform the input array into a max heap, where the largest element is at the root.\n",
    "2. **Extract the Root**: Swap the root (largest element) with the last element of the heap and reduce the heap size by one.\n",
    "3. **Heapify**: Restore the max heap property for the reduced heap.\n",
    "4. **Repeat**: Continue extracting the root and heapifying until the heap size becomes 1."
   ]
  },
  {
   "cell_type": "code",
   "execution_count": 1,
   "metadata": {},
   "outputs": [
    {
     "name": "stdout",
     "output_type": "stream",
     "text": [
      "Sorted array: [5, 6, 7, 11, 12, 13]\n"
     ]
    }
   ],
   "source": [
    "def heapify(arr, n, i):\n",
    "    largest = i  # Initialize largest as root\n",
    "    left = 2 * i + 1  # Left child index\n",
    "    right = 2 * i + 2  # Right child index\n",
    "\n",
    "    # Check if the left child is larger than the root\n",
    "    if left < n and arr[left] > arr[largest]:\n",
    "        largest = left\n",
    "\n",
    "    # Check if the right child is larger than the current largest\n",
    "    if right < n and arr[right] > arr[largest]:\n",
    "        largest = right\n",
    "\n",
    "    # If the largest is not the root, swap and heapify the affected subtree\n",
    "    if largest != i:\n",
    "        arr[i], arr[largest] = arr[largest], arr[i]\n",
    "        heapify(arr, n, largest)\n",
    "\n",
    "def heap_sort(arr):\n",
    "    n = len(arr)\n",
    "\n",
    "    # Build a max heap\n",
    "    for i in range(n // 2 - 1, -1, -1):\n",
    "        heapify(arr, n, i)\n",
    "\n",
    "    # Extract elements one by one from the heap\n",
    "    for i in range(n - 1, 0, -1):\n",
    "        # Swap the current root with the end element\n",
    "        arr[i], arr[0] = arr[0], arr[i]\n",
    "        # Heapify the reduced heap\n",
    "        heapify(arr, i, 0)\n",
    "\n",
    "    return arr\n",
    "\n",
    "# Example Usage\n",
    "array = [12, 11, 13, 5, 6, 7]\n",
    "sorted_array = heap_sort(array)\n",
    "print(\"Sorted array:\", sorted_array)"
   ]
  },
  {
   "cell_type": "markdown",
   "metadata": {},
   "source": [
    "### Time Complexity:\n",
    "1. **Best Case**: \\(O(n \\log n)\\)  \n",
    "   - The heap is built in \\(O(n)\\), and each extraction and heapify operation is \\(O(\\log n)\\).\n",
    "2. **Average Case**: \\(O(n \\log n)\\)  \n",
    "   - The number of comparisons remains consistent regardless of input order.\n",
    "3. **Worst Case**: \\(O(n \\log n)\\)  \n",
    "   - The structure of the heap ensures logarithmic performance for heapifying.\n",
    "\n",
    "### Space Complexity:\n",
    "- **Space Complexity**: \\(O(1)\\)  \n",
    "   - Heap Sort is an in-place algorithm that requires no additional memory aside from a few variables."
   ]
  },
  {
   "cell_type": "markdown",
   "metadata": {},
   "source": [
    "### Key Characteristics:\n",
    "- **Not Stable**: The relative order of equal elements is not preserved.\n",
    "- **In-Place**: Operates directly on the input array without requiring extra space.\n",
    "- **Efficient**: Performs consistently at \\(O(n \\log n)\\), making it suitable for large datasets."
   ]
  },
  {
   "cell_type": "markdown",
   "metadata": {},
   "source": []
  }
 ],
 "metadata": {
  "kernelspec": {
   "display_name": "base",
   "language": "python",
   "name": "python3"
  },
  "language_info": {
   "codemirror_mode": {
    "name": "ipython",
    "version": 3
   },
   "file_extension": ".py",
   "mimetype": "text/x-python",
   "name": "python",
   "nbconvert_exporter": "python",
   "pygments_lexer": "ipython3",
   "version": "3.8.8"
  }
 },
 "nbformat": 4,
 "nbformat_minor": 2
}
