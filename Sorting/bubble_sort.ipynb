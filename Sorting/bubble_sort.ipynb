{
 "cells": [
  {
   "cell_type": "markdown",
   "metadata": {},
   "source": [
    "# Bubble Sort\n",
    "**Bubble Sort** is a simple comparison-based sorting algorithm. It repeatedly steps through the list, compares adjacent elements, and swaps them if they are in the wrong order. This process is repeated until the list is sorted.\n",
    "\n",
    "![image.png](../img/bubble_sort.png)"
   ]
  },
  {
   "cell_type": "markdown",
   "metadata": {},
   "source": [
    "### Algorithm (How It Works):\n",
    "1. Start at the beginning of the list.\n",
    "2. Compare each pair of adjacent elements.\n",
    "   - If the first element is greater than the second, swap them.\n",
    "3. Continue this process for all elements in the list.\n",
    "4. After each pass, the largest element in the unsorted part of the list will be in its correct position.\n",
    "5. Repeat the process for the unsorted portion of the list until no swaps are needed."
   ]
  },
  {
   "cell_type": "code",
   "execution_count": 1,
   "metadata": {},
   "outputs": [
    {
     "name": "stdout",
     "output_type": "stream",
     "text": [
      "Sorted array: [11, 12, 22, 25, 34, 64, 90]\n"
     ]
    }
   ],
   "source": [
    "def bubble_sort(arr):\n",
    "    n = len(arr)\n",
    "    for i in range(n):\n",
    "        # Track if any swaps happen\n",
    "        swapped = False\n",
    "        for j in range(0, n - i - 1):  # Reduce comparisons after each pass\n",
    "            if arr[j] > arr[j + 1]:\n",
    "                # Swap elements\n",
    "                arr[j], arr[j + 1] = arr[j + 1], arr[j]\n",
    "                swapped = True\n",
    "        # If no swaps occurred, the list is sorted\n",
    "        if not swapped:\n",
    "            break\n",
    "    return arr\n",
    "\n",
    "# Example Usage\n",
    "array = [64, 34, 25, 12, 22, 11, 90]\n",
    "sorted_array = bubble_sort(array)\n",
    "print(\"Sorted array:\", sorted_array)"
   ]
  },
  {
   "cell_type": "markdown",
   "metadata": {},
   "source": [
    "### Time Complexity:\n",
    "1. **Best Case**: \\(O(n)\\)  \n",
    "   - When the list is already sorted, only one pass is required (no swaps are made).\n",
    "2. **Average Case**: \\(O(n^2)\\)  \n",
    "   - Comparisons and swaps happen \\(n-1, n-2, ..., 1\\) times, leading to quadratic complexity.\n",
    "3. **Worst Case**: \\(O(n^2)\\)  \n",
    "   - When the list is sorted in reverse order, every element needs to be compared and swapped.\n",
    "\n",
    "### Space Complexity:\n",
    "- **Space Complexity**: \\(O(1)\\)  \n",
    "   - Bubble Sort is an in-place algorithm, requiring no additional space apart from a few variables."
   ]
  },
  {
   "cell_type": "markdown",
   "metadata": {},
   "source": []
  }
 ],
 "metadata": {
  "kernelspec": {
   "display_name": "base",
   "language": "python",
   "name": "python3"
  },
  "language_info": {
   "codemirror_mode": {
    "name": "ipython",
    "version": 3
   },
   "file_extension": ".py",
   "mimetype": "text/x-python",
   "name": "python",
   "nbconvert_exporter": "python",
   "pygments_lexer": "ipython3",
   "version": "3.8.8"
  }
 },
 "nbformat": 4,
 "nbformat_minor": 2
}
