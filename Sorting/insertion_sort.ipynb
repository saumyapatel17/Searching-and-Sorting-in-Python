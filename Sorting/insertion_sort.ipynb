{
 "cells": [
  {
   "cell_type": "markdown",
   "metadata": {},
   "source": [
    "# Insertion Sort\n",
    "**Insertion Sort** is a simple and intuitive sorting algorithm that works by building a sorted portion of the list one element at a time. It picks an element from the unsorted portion and places it in the correct position in the sorted portion.\n",
    "\n",
    "![image.png](../img/Insertion-sorting.png)"
   ]
  },
  {
   "cell_type": "markdown",
   "metadata": {},
   "source": [
    "### Algorithm (How It Works):\n",
    "1. Start with the second element (index 1) as the first element is trivially sorted.\n",
    "2. Compare the current element with elements in the sorted portion (left side).\n",
    "3. Shift elements of the sorted portion that are greater than the current element one position to the right.\n",
    "4. Insert the current element into its correct position.\n",
    "5. Repeat this process for all elements in the unsorted portion of the list."
   ]
  },
  {
   "cell_type": "code",
   "execution_count": 1,
   "metadata": {},
   "outputs": [
    {
     "name": "stdout",
     "output_type": "stream",
     "text": [
      "Sorted array: [5, 6, 11, 12, 13]\n"
     ]
    }
   ],
   "source": [
    "def insertion_sort(arr):\n",
    "    for i in range(1, len(arr)):\n",
    "        # Store the current element\n",
    "        key = arr[i]\n",
    "        # Initialize the index of the previous element\n",
    "        j = i - 1\n",
    "        # Move elements of the sorted part that are greater than the key to the right\n",
    "        while j >= 0 and arr[j] > key:\n",
    "            arr[j + 1] = arr[j]\n",
    "            j -= 1\n",
    "        # Insert the key into its correct position\n",
    "        arr[j + 1] = key\n",
    "    return arr\n",
    "\n",
    "# Example Usage\n",
    "array = [12, 11, 13, 5, 6]\n",
    "sorted_array = insertion_sort(array)\n",
    "print(\"Sorted array:\", sorted_array)"
   ]
  },
  {
   "cell_type": "markdown",
   "metadata": {},
   "source": [
    "### Time Complexity:\n",
    "1. **Best Case**: \\(O(n)\\)  \n",
    "   - When the list is already sorted, each element is compared once with its predecessor.\n",
    "2. **Average Case**: \\(O(n^2)\\)  \n",
    "   - Comparisons and shifts happen \\(1 + 2 + 3 + \\ldots + (n-1)\\) times on average.\n",
    "3. **Worst Case**: \\(O(n^2)\\)  \n",
    "   - When the list is sorted in reverse order, each element needs to be compared and shifted through the entire sorted portion.\n",
    "\n",
    "### Space Complexity:\n",
    "- **Space Complexity**: \\(O(1)\\)  \n",
    "   - Insertion Sort is an in-place algorithm, requiring no additional memory apart from a few variables."
   ]
  },
  {
   "cell_type": "markdown",
   "metadata": {},
   "source": [
    "### Key Characteristics:\n",
    "- **Stable**: Maintains the relative order of equal elements.\n",
    "- **Adaptive**: Performs well for nearly sorted data, making fewer comparisons and shifts."
   ]
  },
  {
   "cell_type": "markdown",
   "metadata": {},
   "source": []
  }
 ],
 "metadata": {
  "kernelspec": {
   "display_name": "base",
   "language": "python",
   "name": "python3"
  },
  "language_info": {
   "codemirror_mode": {
    "name": "ipython",
    "version": 3
   },
   "file_extension": ".py",
   "mimetype": "text/x-python",
   "name": "python",
   "nbconvert_exporter": "python",
   "pygments_lexer": "ipython3",
   "version": "3.8.8"
  }
 },
 "nbformat": 4,
 "nbformat_minor": 2
}
