{
 "cells": [
  {
   "cell_type": "markdown",
   "metadata": {},
   "source": [
    "# Interpolation Search\n",
    "Interpolation search is an algorithm for searching for a specific value in a sorted array. It is an improvement over binary search for uniformly distributed datasets. The basic idea of interpolation search is to estimate the position of the target value based on the values at the ends of the current search interval, thus potentially reducing the number of comparisons needed."
   ]
  },
  {
   "cell_type": "markdown",
   "metadata": {},
   "source": [
    "### How Interpolation Search Works\n",
    "Interpolation search works by using a formula to predict the position of the target element, leveraging the values at the low and high bounds of the current search interval. The prediction is more accurate when the data is uniformly distributed.\n",
    "\n",
    "- Initialize Pointers: Start with two pointers, low pointing to the start and high pointing to the end of the array.\n",
    "- Calculate the Predicted Position: Use the interpolation formula to predict the position pos of the target value within the current interval:\n",
    "![image.png](../img/1_MKBPpucK6X7ZSjvlYRnSBA.webp)\n",
    "- Compare Predicted Position Value: Compare the target value with the value at the predicted position:\n",
    "    - If the target value equals the value at pos, return pos.\n",
    "    - If the target value is less than the value at pos, narrow the search interval to the left half by setting high to pos - 1.\n",
    "    - If the target value is greater than the value at pos, narrow the search interval to the right half by setting low to pos + 1.\n",
    "- Repeat: Repeat steps 2 and 3 until the target value is found or the search interval is empty (low exceeds high)."
   ]
  },
  {
   "cell_type": "markdown",
   "metadata": {},
   "source": [
    "### Algorithm\n",
    "- Initialize low to 0 and high to n - 1 where n is the number of elements in the array.\n",
    "- While low is less than or equal to high and the target is within the range of arr[low] and arr[high]:\n",
    "    - Calculate the predicted position pos.\n",
    "    - If arr[pos] is equal to the target, return pos.\n",
    "    - If the target is less than arr[pos], set high to pos - 1.\n",
    "    - If the target is greater than arr[pos], set low to pos + 1.\n",
    "- If the target is not found, return -1."
   ]
  },
  {
   "cell_type": "code",
   "execution_count": 1,
   "metadata": {},
   "outputs": [
    {
     "name": "stdout",
     "output_type": "stream",
     "text": [
      "Element found at index 4\n"
     ]
    }
   ],
   "source": [
    "def interpolation_search(arr, target):\n",
    "    low, high = 0, len(arr) - 1\n",
    "    \n",
    "    while low <= high and target >= arr[low] and target <= arr[high]:\n",
    "        if low == high:\n",
    "            if arr[low] == target:\n",
    "                return low\n",
    "            return -1\n",
    "        \n",
    "        pos = low + ((target - arr[low]) * (high - low) // (arr[high] - arr[low]))\n",
    "        \n",
    "        if arr[pos] == target:\n",
    "            return pos\n",
    "        elif arr[pos] < target:\n",
    "            low = pos + 1\n",
    "        else:\n",
    "            high = pos - 1\n",
    "    \n",
    "    return -1\n",
    "\n",
    "# Example usage\n",
    "arr = [10, 12, 13, 16, 18, 19, 20, 21, 22, 23, 24, 33, 35, 42, 47]\n",
    "target = 18\n",
    "result = interpolation_search(arr, target)\n",
    "if result != -1:\n",
    "    print(f\"Element found at index {result}\")\n",
    "else:\n",
    "    print(\"Element not found in the array\")"
   ]
  },
  {
   "cell_type": "markdown",
   "metadata": {},
   "source": [
    "### Time Complexity\n",
    "- Best Case: O(1) — The target element is found at the predicted position immediately.\n",
    "- Average Case: O(log log n) — For uniformly distributed data, the algorithm performs significantly better than binary search.\n",
    "- Worst Case: O(n) — For non-uniformly distributed data, the algorithm may degrade to linear search performance.\n",
    "\n",
    "### Space Complexity\n",
    "The space complexity of interpolation search is O(1), as it requires a constant amount of additional memory space regardless of the input size. Only a few variables are used to store indices and the target value."
   ]
  },
  {
   "cell_type": "markdown",
   "metadata": {},
   "source": [
    "## Advantages and Disadvantages"
   ]
  },
  {
   "cell_type": "markdown",
   "metadata": {},
   "source": [
    "### Advantages:\n",
    "- Efficiency for Uniform Data: Faster than binary search for uniformly distributed datasets due to fewer comparisons.\n",
    "- Simplicity: Relatively simple to implement and understand.\n",
    "\n",
    "### Disadvantages:\n",
    "- Data Distribution Dependency: Performance degrades significantly for non-uniformly distributed data.\n",
    "- Requires Sorted Data: The array must be sorted for the algorithm to work correctly."
   ]
  },
  {
   "cell_type": "markdown",
   "metadata": {},
   "source": []
  }
 ],
 "metadata": {
  "kernelspec": {
   "display_name": "base",
   "language": "python",
   "name": "python3"
  },
  "language_info": {
   "codemirror_mode": {
    "name": "ipython",
    "version": 3
   },
   "file_extension": ".py",
   "mimetype": "text/x-python",
   "name": "python",
   "nbconvert_exporter": "python",
   "pygments_lexer": "ipython3",
   "version": "3.8.8"
  }
 },
 "nbformat": 4,
 "nbformat_minor": 2
}
