{
 "cells": [
  {
   "cell_type": "markdown",
   "metadata": {},
   "source": [
    "# Binary Search\n",
    "Binary search is a highly efficient searching algorithm used for finding the position of a target value within a sorted array. Unlike linear search, which checks each element sequentially, binary search divides the search interval in half repeatedly, which allows it to significantly reduce the number of comparisons and thus the time complexity."
   ]
  },
  {
   "cell_type": "markdown",
   "metadata": {},
   "source": [
    "### How Binary Search Works\n",
    "- Initialize Pointers: Start with two pointers, one pointing to the start (left) and one to the end (right) of the array.\n",
    "- Calculate Midpoint: Compute the middle index (mid) of the current interval using the formula: mid = left + (right - left) // 2.\n",
    "- Compare Midpoint Value: Compare the target value with the value at the midpoint:\n",
    "    - If the target value equals the midpoint value, the target is found, and the algorithm returns the midpoint index.\n",
    "    - If the target value is less than the midpoint value, narrow the search interval to the left half by setting right to mid - 1.\n",
    "    - If the target value is greater than the midpoint value, narrow the search interval to the right half by setting left to mid + 1.\n",
    "- Repeat: Repeat steps 2 and 3 until the target value is found or the search interval is empty (left exceeds right)."
   ]
  },
  {
   "cell_type": "markdown",
   "metadata": {},
   "source": [
    "### Algorithm\n",
    "- Initialize left to 0 and right to n - 1 where n is the number of elements in the array.\n",
    "- While left is less than or equal to right:\n",
    "    - Calculate the middle index mid.\n",
    "    - If the target is equal to the element at mid, return mid.\n",
    "    - If the target is less than the element at mid, set right to mid - 1.\n",
    "    - If the target is greater than the element at mid, set left to mid + 1.\n",
    "- If the target is not found, return -1."
   ]
  },
  {
   "cell_type": "code",
   "execution_count": 1,
   "metadata": {},
   "outputs": [
    {
     "name": "stdout",
     "output_type": "stream",
     "text": [
      "Element found at index 3\n"
     ]
    }
   ],
   "source": [
    "def binary_search(arr, target):\n",
    "    left, right = 0, len(arr) - 1\n",
    "    \n",
    "    while left <= right:\n",
    "        mid = left + (right - left) // 2\n",
    "        \n",
    "        if arr[mid] == target:\n",
    "            return mid\n",
    "        elif arr[mid] < target:\n",
    "            left = mid + 1\n",
    "        else:\n",
    "            right = mid - 1\n",
    "    \n",
    "    return -1\n",
    "\n",
    "# Example usage\n",
    "arr = [2, 3, 4, 10, 40]\n",
    "target = 10\n",
    "result = binary_search(arr, target)\n",
    "if result != -1:\n",
    "    print(f\"Element found at index {result}\")\n",
    "else:\n",
    "    print(\"Element not found in the array\")"
   ]
  },
  {
   "cell_type": "markdown",
   "metadata": {},
   "source": [
    "### Time Complexity\n",
    "- Best Case: O(1) — The target element is found at the first comparison.\n",
    "- Worst Case: O(log n) — The search interval is halved until the target element is found or the interval is empty.\n",
    "- Average Case: O(log n) — On average, the algorithm performs log n comparisons.\n",
    "\n",
    "### Space Complexity\n",
    "The space complexity of binary search is O(1), as it requires a constant amount of additional memory space regardless of the input size. Only a few variables are used to store the indices and the target value."
   ]
  },
  {
   "cell_type": "markdown",
   "metadata": {},
   "source": [
    "## Advantages and Disadvantages"
   ]
  },
  {
   "cell_type": "markdown",
   "metadata": {},
   "source": [
    "### Advantages:\n",
    "- Efficiency: Significantly faster than linear search for large datasets due to its logarithmic time complexity.\n",
    "- Simplicity: Relatively simple to implement and understand.\n",
    "- Scalability: Suitable for very large datasets as it efficiently narrows down the search interval.\n",
    "\n",
    "### Disadvantages:\n",
    "- Sorted Data Requirement: Requires the dataset to be sorted, which may add preprocessing overhead.\n",
    "- Not Suitable for Linked Lists: Inefficient for linked lists due to non-contiguous memory allocation, making random access costly."
   ]
  }
 ],
 "metadata": {
  "kernelspec": {
   "display_name": "base",
   "language": "python",
   "name": "python3"
  },
  "language_info": {
   "codemirror_mode": {
    "name": "ipython",
    "version": 3
   },
   "file_extension": ".py",
   "mimetype": "text/x-python",
   "name": "python",
   "nbconvert_exporter": "python",
   "pygments_lexer": "ipython3",
   "version": "3.8.8"
  }
 },
 "nbformat": 4,
 "nbformat_minor": 2
}
