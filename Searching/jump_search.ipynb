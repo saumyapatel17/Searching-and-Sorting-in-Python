{
 "cells": [
  {
   "cell_type": "markdown",
   "metadata": {},
   "source": [
    "# Jump Search\n",
    "Jump search is an algorithm for searching in a sorted array. It is an improvement over linear search by attempting to reduce the number of comparisons needed. The basic idea is to jump ahead by fixed steps and then perform a linear search within the identified block where the target element might be located."
   ]
  },
  {
   "cell_type": "markdown",
   "metadata": {},
   "source": [
    "### How Jump Search Works\n",
    "Jump search operates by dividing the array into smaller blocks of a fixed size, then jumping from block to block. If a block is found where the target element could be located, a linear search is performed within that block.\n",
    "\n",
    "- Choose a Jump Size: Select a block size or jump step. A common choice is the square root of the size of the array (m = sqrt(n)), where n is the number of elements in the array. This minimizes the number of jumps and comparisons.\n",
    "- Jump Through the Array: Start at the beginning of the array and jump ahead by the block size until the value at the current index is greater than or equal to the target value or the end of the array is reached.\n",
    "- Perform Linear Search: Once the block where the target could reside is identified, perform a linear search within that block to find the exact position of the target value.\n",
    "- Return the Result: If the target value is found, return its index. If the target value is not found, return -1."
   ]
  },
  {
   "cell_type": "markdown",
   "metadata": {},
   "source": [
    "### Algorithm\n",
    "- Set m to sqrt(n), where n is the number of elements in the array.\n",
    "- Initialize prev to 0 and curr to m.\n",
    "- While arr[curr] < target and curr is less than n:\n",
    "    - Set prev to curr.\n",
    "    - Increment curr by m.\n",
    "    - If curr exceeds n, set curr to n.\n",
    "- Perform a linear search from prev to curr:\n",
    "    - If arr[i] is equal to the target, return i.\n",
    "- If the target is not found, return -1."
   ]
  },
  {
   "cell_type": "code",
   "execution_count": 1,
   "metadata": {},
   "outputs": [
    {
     "name": "stdout",
     "output_type": "stream",
     "text": [
      "Element found at index 10\n"
     ]
    }
   ],
   "source": [
    "import math\n",
    "\n",
    "def jump_search(arr, target):\n",
    "    n = len(arr)\n",
    "    m = int(math.sqrt(n))  # Block size to be jumped\n",
    "    prev, curr = 0, 0\n",
    "    \n",
    "    # Jump ahead to find the block where the element may be present\n",
    "    while curr < n and arr[curr] < target:\n",
    "        prev = curr\n",
    "        curr += m\n",
    "        if curr >= n:\n",
    "            curr = n\n",
    "    \n",
    "    # Perform a linear search in the identified block\n",
    "    for i in range(prev, min(curr, n)):\n",
    "        if arr[i] == target:\n",
    "            return i\n",
    "    \n",
    "    return -1\n",
    "\n",
    "# Example usage\n",
    "arr = [0, 1, 1, 2, 3, 5, 8, 13, 21, 34, 55, 89, 144, 233, 377, 610]\n",
    "target = 55\n",
    "result = jump_search(arr, target)\n",
    "if result != -1:\n",
    "    print(f\"Element found at index {result}\")\n",
    "else:\n",
    "    print(\"Element not found in the array\")"
   ]
  },
  {
   "cell_type": "markdown",
   "metadata": {},
   "source": [
    "### Time Complexity\n",
    "- Best Case: O(1) — The target element is found at the first jump.\n",
    "- Worst Case: O(√n) — The target element is at the end of the array or not present.\n",
    "- Average Case: O(√n) — On average, the target element is somewhere in the middle.\n",
    "\n",
    "### Space Complexity\n",
    "The space complexity of jump search is O(1), as it uses a constant amount of additional memory space regardless of the input size. Only a few variables are used to store indices and the jump size."
   ]
  },
  {
   "cell_type": "markdown",
   "metadata": {},
   "source": [
    "## Advantages and Disadvantages"
   ]
  },
  {
   "cell_type": "markdown",
   "metadata": {},
   "source": [
    "### Advantages:\n",
    "- Efficiency: Faster than linear search for large arrays due to reduced comparisons.\n",
    "- Simplicity: Easier to implement than more complex algorithms like binary search.\n",
    "\n",
    "### Disadvantages:\n",
    "- Sorted Data Requirement: Requires the array to be sorted.\n",
    "- Not as Efficient as Binary Search: Generally slower than binary search for very large datasets with O(log n) time complexity"
   ]
  }
 ],
 "metadata": {
  "kernelspec": {
   "display_name": "base",
   "language": "python",
   "name": "python3"
  },
  "language_info": {
   "codemirror_mode": {
    "name": "ipython",
    "version": 3
   },
   "file_extension": ".py",
   "mimetype": "text/x-python",
   "name": "python",
   "nbconvert_exporter": "python",
   "pygments_lexer": "ipython3",
   "version": "3.8.8"
  }
 },
 "nbformat": 4,
 "nbformat_minor": 2
}
