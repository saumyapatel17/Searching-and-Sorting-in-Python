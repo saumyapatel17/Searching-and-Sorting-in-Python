{
 "cells": [
  {
   "cell_type": "markdown",
   "metadata": {},
   "source": [
    "# Linear Search\n",
    "Linear search, also known as sequential search, is the simplest and most straightforward searching algorithm. It works by iteratively checking each element of the list until the target element is found or the end of the list is reached. Despite its simplicity, linear search is a fundamental algorithm used in various applications, especially when dealing with small or unsorted datasets."
   ]
  },
  {
   "cell_type": "markdown",
   "metadata": {},
   "source": [
    "### How Linear Search Works\n",
    "- Start from the first element: Begin the search from the first element of the list.\n",
    "- Compare each element: Compare the current element with the target element.\n",
    "- Check for match: If the current element matches the target element, return the index of the current element.\n",
    "- Move to the next element: If the current element does not match the target element, move to the next element.\n",
    "- Repeat the process: Continue this process until either the target element is found or the end of the list is reached.\n",
    "- Return result: If the target element is found, return its index. If the target element is not found after checking all elements, return -1.\n",
    "\n",
    "### Algorithm\n",
    "- Initialize the index variable to 0.\n",
    "- Loop through each element of the list:\n",
    "    - If the current element matches the target element, return the current index.\n",
    "    - Otherwise, move to the next element by incrementing the index.\n",
    "- If the loop completes without finding the target element, return -1."
   ]
  },
  {
   "cell_type": "code",
   "execution_count": 1,
   "metadata": {},
   "outputs": [
    {
     "name": "stdout",
     "output_type": "stream",
     "text": [
      "Element found at index 3\n"
     ]
    }
   ],
   "source": [
    "def linear_search(arr, target):\n",
    "    for index in range(len(arr)):\n",
    "        if arr[index] == target:\n",
    "            return index\n",
    "    return -1\n",
    "\n",
    "# Example usage\n",
    "arr = [10, 23, 45, 70, 11, 15]\n",
    "target = 70\n",
    "result = linear_search(arr, target)\n",
    "if result != -1:\n",
    "    print(f\"Element found at index {result}\")\n",
    "else:\n",
    "    print(\"Element not found in the array\")"
   ]
  },
  {
   "cell_type": "markdown",
   "metadata": {},
   "source": [
    "### Time Complexity\n",
    "- Best Case: O(1) — The target element is found at the first position.\n",
    "- Worst Case: O(n) — The target element is not present, or it is the last element in the list.\n",
    "- Average Case: O(n) — On average, the target element may be found halfway through the list.\n",
    "\n",
    "### Space Complexity\n",
    "The space complexity of linear search is O(1), as it requires a constant amount of additional memory space regardless of the input size. Only a few variables are used to store the index and the target element."
   ]
  },
  {
   "cell_type": "markdown",
   "metadata": {},
   "source": [
    "## Advantages and Disadvantages"
   ]
  },
  {
   "cell_type": "markdown",
   "metadata": {},
   "source": [
    "### Advantages:\n",
    "- Simple to implement and understand.\n",
    "- No need for the data to be sorted.\n",
    "- Works well for small datasets.\n",
    "\n",
    "### Disadvantages:\n",
    "- Inefficient for large datasets due to its O(n) time complexity.\n",
    "- Not suitable when frequent searches are required on large datasets."
   ]
  },
  {
   "cell_type": "markdown",
   "metadata": {},
   "source": []
  }
 ],
 "metadata": {
  "kernelspec": {
   "display_name": "base",
   "language": "python",
   "name": "python3"
  },
  "language_info": {
   "codemirror_mode": {
    "name": "ipython",
    "version": 3
   },
   "file_extension": ".py",
   "mimetype": "text/x-python",
   "name": "python",
   "nbconvert_exporter": "python",
   "pygments_lexer": "ipython3",
   "version": "3.8.8"
  }
 },
 "nbformat": 4,
 "nbformat_minor": 2
}
