{
 "cells": [
  {
   "cell_type": "markdown",
   "metadata": {},
   "source": [
    "# Exponential Search\n",
    "Exponential search is an algorithm designed for searching in a sorted array. It is particularly efficient for unbounded or infinite lists and combines binary search with an exponential growth step to find the range where the target value might exist. It is useful when the size of the list is unknown or when we want to find an element in a large sorted list efficiently."
   ]
  },
  {
   "cell_type": "markdown",
   "metadata": {},
   "source": [
    "### How Exponential Search Works\n",
    "- Exponential Phase: Start from the first element and exponentially increase the range until the target value is less than the value at the current position.\n",
    "- Binary Search Phase: Once the range is found, perform a binary search within that range to find the exact position of the target value.\n",
    "\n",
    "Here are the steps in detail:\n",
    "- Initialize Index: Start with the first element at index 0.\n",
    "- Exponential Growth: Double the index until the value at the index is greater than or equal to the target value or the index exceeds the length of the array.\n",
    "- Perform Binary Search: Use binary search within the range identified (from the previous index to the current index) to find the target value."
   ]
  },
  {
   "cell_type": "markdown",
   "metadata": {},
   "source": [
    "### Algorithm\n",
    "- If the array is empty, return -1.\n",
    "- If the target is at the first position, return 0.\n",
    "- Initialize index to 1.\n",
    "- While index is less than the length of the array and the value at index is less than the target:\n",
    "    - Double the index.\n",
    "- Perform binary search from index/2 to min(index, length of array - 1)."
   ]
  },
  {
   "cell_type": "code",
   "execution_count": 1,
   "metadata": {},
   "outputs": [
    {
     "name": "stdout",
     "output_type": "stream",
     "text": [
      "Element found at index 4\n"
     ]
    }
   ],
   "source": [
    "def binary_search(arr, target, left, right):\n",
    "    while left <= right:\n",
    "        mid = left + (right - left) // 2\n",
    "        if arr[mid] == target:\n",
    "            return mid\n",
    "        elif arr[mid] < target:\n",
    "            left = mid + 1\n",
    "        else:\n",
    "            right = mid - 1\n",
    "    return -1\n",
    "\n",
    "def exponential_search(arr, target):\n",
    "    if not arr:\n",
    "        return -1\n",
    "    if arr[0] == target:\n",
    "        return 0\n",
    "    \n",
    "    index = 1\n",
    "    while index < len(arr) and arr[index] <= target:\n",
    "        index *= 2\n",
    "    \n",
    "    return binary_search(arr, target, index // 2, min(index, len(arr) - 1))\n",
    "\n",
    "# Example usage\n",
    "arr = [10, 12, 15, 17, 18, 19, 21, 23, 24, 33, 35, 42, 47, 50]\n",
    "target = 18\n",
    "result = exponential_search(arr, target)\n",
    "if result != -1:\n",
    "    print(f\"Element found at index {result}\")\n",
    "else:\n",
    "    print(\"Element not found in the array\")"
   ]
  },
  {
   "cell_type": "markdown",
   "metadata": {},
   "source": [
    "### Time Complexity\n",
    "- Best Case: O(1) — The target element is the first element.\n",
    "- Worst Case: O(log n) — The target element is at the end of the array or not present.\n",
    "- Average Case: O(log n) — On average, the algorithm performs log n comparisons.\n",
    "\n",
    "### Space Complexity\n",
    "The space complexity of exponential search is O(1), as it requires a constant amount of additional memory space regardless of the input size. Only a few variables are used to store indices and the target value."
   ]
  },
  {
   "cell_type": "markdown",
   "metadata": {},
   "source": [
    "## Advantages and Disadvantages"
   ]
  },
  {
   "cell_type": "markdown",
   "metadata": {},
   "source": [
    "### Advantages:\n",
    "- Efficiency: Faster than linear search and binary search for unbounded lists.\n",
    "- Scalability: Suitable for very large datasets due to logarithmic time complexity.\n",
    "\n",
    "### Disadvantages:\n",
    "- Sorted Data Requirement: Requires the array to be sorted.\n",
    "- Overhead for Small Arrays: May not be as efficient for small arrays compared to simple binary search due to the overhead of the exponential phase."
   ]
  },
  {
   "cell_type": "markdown",
   "metadata": {},
   "source": []
  }
 ],
 "metadata": {
  "kernelspec": {
   "display_name": "base",
   "language": "python",
   "name": "python3"
  },
  "language_info": {
   "codemirror_mode": {
    "name": "ipython",
    "version": 3
   },
   "file_extension": ".py",
   "mimetype": "text/x-python",
   "name": "python",
   "nbconvert_exporter": "python",
   "pygments_lexer": "ipython3",
   "version": "3.8.8"
  }
 },
 "nbformat": 4,
 "nbformat_minor": 2
}
