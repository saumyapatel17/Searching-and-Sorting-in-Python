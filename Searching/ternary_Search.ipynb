{
 "cells": [
  {
   "cell_type": "markdown",
   "metadata": {},
   "source": [
    "# Ternary Search\n",
    "Ternary search is an algorithm designed for searching in sorted arrays, similar to binary search. However, instead of dividing the search space in half, ternary search divides it into three parts. It is particularly efficient for finding the maximum or minimum value of a unimodal function, but it can also be used for general searching."
   ]
  },
  {
   "cell_type": "markdown",
   "metadata": {},
   "source": [
    "### How Ternary Search Works\n",
    "Ternary search works by dividing the search interval into three equal parts and discarding one-third of the search space in each iteration. It requires the array to be sorted.\n",
    "\n",
    "- Initialize Pointers: Start with two pointers, left and right, representing the start and end of the search interval, respectively.\n",
    "- Divide the Search Space: Calculate two midpoints, mid1 and mid2, dividing the search interval into three equal parts.\n",
    "- Compare Values: Compare the target value with the values at mid1 and mid2.\n",
    "    - If the target value is equal to the value at mid1 or mid2, return the index of the matching element.\n",
    "    - If the target value is less than the value at mid1, discard the right third of the search space by updating right to mid1 - 1.\n",
    "    - If the target value is greater than the value at mid2, discard the left third of the search space by updating left to mid2 + 1.\n",
    "    - Otherwise, the target value must lie between mid1 and mid2, so discard the outer two-thirds of the search space by updating left to mid1 + 1 and right to mid2 - 1.\n",
    "- Repeat: Continue this process until the target value is found or the search interval becomes empty."
   ]
  },
  {
   "cell_type": "markdown",
   "metadata": {},
   "source": [
    "### Algorithm\n",
    "- Initialize left to 0 and right to n - 1, where n is the number of elements in the array.\n",
    "- While left is less than or equal to right:\n",
    "    - Calculate mid1 and mid2 as (left + (right - left) // 3) and (right - (right - left) // 3), respectively.\n",
    "    - If the target value is equal to the value at mid1 or mid2, return the index of the matching element.\n",
    "    - If the target value is less than the value at mid1, update right to mid1 - 1.\n",
    "    - If the target value is greater than the value at mid2, update left to mid2 + 1.\n",
    "    - Otherwise, update left to mid1 + 1 and right to mid2 - 1.\n",
    "- If the target value is not found, return -1."
   ]
  },
  {
   "cell_type": "code",
   "execution_count": 1,
   "metadata": {},
   "outputs": [
    {
     "name": "stdout",
     "output_type": "stream",
     "text": [
      "Element found at index 6\n"
     ]
    }
   ],
   "source": [
    "def ternary_search(arr, target):\n",
    "    left, right = 0, len(arr) - 1\n",
    "    \n",
    "    while left <= right:\n",
    "        mid1 = left + (right - left) // 3\n",
    "        mid2 = right - (right - left) // 3\n",
    "        \n",
    "        if arr[mid1] == target:\n",
    "            return mid1\n",
    "        elif arr[mid2] == target:\n",
    "            return mid2\n",
    "        elif arr[mid1] > target:\n",
    "            right = mid1 - 1\n",
    "        elif arr[mid2] < target:\n",
    "            left = mid2 + 1\n",
    "        else:\n",
    "            left = mid1 + 1\n",
    "            right = mid2 - 1\n",
    "    \n",
    "    return -1\n",
    "\n",
    "# Example usage\n",
    "arr = [1, 3, 5, 7, 9, 11, 13, 15, 17, 19]\n",
    "target = 13\n",
    "result = ternary_search(arr, target)\n",
    "if result != -1:\n",
    "    print(f\"Element found at index {result}\")\n",
    "else:\n",
    "    print(\"Element not found in the array\")"
   ]
  },
  {
   "cell_type": "markdown",
   "metadata": {},
   "source": [
    "### Time Complexity\n",
    "- Best Case: O(1) — The target element is found at the first comparison.\n",
    "- Worst Case: O(log3 n) — The target element is not present, or it is at the end of the array.\n",
    "- Average Case: O(log3 n) — On average, the target element is found within a few iterations.\n",
    "\n",
    "### Space Complexity\n",
    "The space complexity of ternary search is O(1), as it requires a constant amount of additional memory space regardless of the input size. Only a few variables are used to store indices and the target value."
   ]
  },
  {
   "cell_type": "markdown",
   "metadata": {},
   "source": [
    "## Advantages and Disadvantages"
   ]
  },
  {
   "cell_type": "markdown",
   "metadata": {},
   "source": [
    "### Advantages:\n",
    "- Efficiency: Provides a balance between the simplicity of binary search and the efficiency of interpolation search.\n",
    "- Versatility: Can be applied to a wide range of search problems, including finding peaks or valleys in functions.\n",
    "\n",
    "### Disadvantages:\n",
    "- Sorted Data Requirement: Requires the array to be sorted.\n",
    "- Not Suitable for All Datasets: May not be as efficient as binary search for certain datasets."
   ]
  },
  {
   "cell_type": "markdown",
   "metadata": {},
   "source": []
  }
 ],
 "metadata": {
  "kernelspec": {
   "display_name": "base",
   "language": "python",
   "name": "python3"
  },
  "language_info": {
   "codemirror_mode": {
    "name": "ipython",
    "version": 3
   },
   "file_extension": ".py",
   "mimetype": "text/x-python",
   "name": "python",
   "nbconvert_exporter": "python",
   "pygments_lexer": "ipython3",
   "version": "3.8.8"
  }
 },
 "nbformat": 4,
 "nbformat_minor": 2
}
